{
 "cells": [
  {
   "cell_type": "markdown",
   "id": "11725a1f",
   "metadata": {},
   "source": [
    "# Goal :- To take valuable insights from the dataset by performing descriptive analysis"
   ]
  },
  {
   "cell_type": "markdown",
   "id": "308ae5ae",
   "metadata": {},
   "source": [
    "## Get the Data"
   ]
  },
  {
   "cell_type": "code",
   "execution_count": 1,
   "id": "90052912",
   "metadata": {},
   "outputs": [],
   "source": [
    "import pandas as pd\n",
    "import numpy as np\n",
    "import matplotlib.pyplot as plt\n",
    "import seaborn as sns\n",
    "%matplotlib inline"
   ]
  },
  {
   "cell_type": "code",
   "execution_count": 2,
   "id": "42bb5e51",
   "metadata": {},
   "outputs": [],
   "source": [
    "import_data = pd.read_csv(\"D:\\\\python docouments\\\\analytics_dataset\\\\2018-2010_import.csv\")\n",
    "export_data = pd.read_csv(\"D:\\\\python docouments\\\\analytics_dataset\\\\2018-2010_export.csv\")"
   ]
  },
  {
   "cell_type": "markdown",
   "id": "994b4a43",
   "metadata": {},
   "source": [
    "## Explore and Clean the Data"
   ]
  },
  {
   "cell_type": "code",
   "execution_count": 3,
   "id": "32b337c4",
   "metadata": {},
   "outputs": [
    {
     "data": {
      "text/html": [
       "<div>\n",
       "<style scoped>\n",
       "    .dataframe tbody tr th:only-of-type {\n",
       "        vertical-align: middle;\n",
       "    }\n",
       "\n",
       "    .dataframe tbody tr th {\n",
       "        vertical-align: top;\n",
       "    }\n",
       "\n",
       "    .dataframe thead th {\n",
       "        text-align: right;\n",
       "    }\n",
       "</style>\n",
       "<table border=\"1\" class=\"dataframe\">\n",
       "  <thead>\n",
       "    <tr style=\"text-align: right;\">\n",
       "      <th></th>\n",
       "      <th>HSCode</th>\n",
       "      <th>Commodity</th>\n",
       "      <th>value</th>\n",
       "      <th>country</th>\n",
       "      <th>year</th>\n",
       "    </tr>\n",
       "  </thead>\n",
       "  <tbody>\n",
       "    <tr>\n",
       "      <th>0</th>\n",
       "      <td>5</td>\n",
       "      <td>PRODUCTS OF ANIMAL ORIGIN, NOT ELSEWHERE SPECI...</td>\n",
       "      <td>0.00</td>\n",
       "      <td>AFGHANISTAN TIS</td>\n",
       "      <td>2018</td>\n",
       "    </tr>\n",
       "    <tr>\n",
       "      <th>1</th>\n",
       "      <td>7</td>\n",
       "      <td>EDIBLE VEGETABLES AND CERTAIN ROOTS AND TUBERS.</td>\n",
       "      <td>12.38</td>\n",
       "      <td>AFGHANISTAN TIS</td>\n",
       "      <td>2018</td>\n",
       "    </tr>\n",
       "    <tr>\n",
       "      <th>2</th>\n",
       "      <td>8</td>\n",
       "      <td>EDIBLE FRUIT AND NUTS; PEEL OR CITRUS FRUIT OR...</td>\n",
       "      <td>268.60</td>\n",
       "      <td>AFGHANISTAN TIS</td>\n",
       "      <td>2018</td>\n",
       "    </tr>\n",
       "    <tr>\n",
       "      <th>3</th>\n",
       "      <td>9</td>\n",
       "      <td>COFFEE, TEA, MATE AND SPICES.</td>\n",
       "      <td>35.48</td>\n",
       "      <td>AFGHANISTAN TIS</td>\n",
       "      <td>2018</td>\n",
       "    </tr>\n",
       "    <tr>\n",
       "      <th>4</th>\n",
       "      <td>11</td>\n",
       "      <td>PRODUCTS OF THE MILLING INDUSTRY; MALT; STARCH...</td>\n",
       "      <td>NaN</td>\n",
       "      <td>AFGHANISTAN TIS</td>\n",
       "      <td>2018</td>\n",
       "    </tr>\n",
       "    <tr>\n",
       "      <th>...</th>\n",
       "      <td>...</td>\n",
       "      <td>...</td>\n",
       "      <td>...</td>\n",
       "      <td>...</td>\n",
       "      <td>...</td>\n",
       "    </tr>\n",
       "    <tr>\n",
       "      <th>76119</th>\n",
       "      <td>81</td>\n",
       "      <td>OTHER BASE METALS; CERMETS; ARTICLES THEREOF.</td>\n",
       "      <td>0.14</td>\n",
       "      <td>ZIMBABWE</td>\n",
       "      <td>2010</td>\n",
       "    </tr>\n",
       "    <tr>\n",
       "      <th>76120</th>\n",
       "      <td>82</td>\n",
       "      <td>TOOLS IMPLEMENTS, CUTLERY, SPOONS AND FORKS, O...</td>\n",
       "      <td>0.00</td>\n",
       "      <td>ZIMBABWE</td>\n",
       "      <td>2010</td>\n",
       "    </tr>\n",
       "    <tr>\n",
       "      <th>76121</th>\n",
       "      <td>84</td>\n",
       "      <td>NUCLEAR REACTORS, BOILERS, MACHINERY AND MECHA...</td>\n",
       "      <td>NaN</td>\n",
       "      <td>ZIMBABWE</td>\n",
       "      <td>2010</td>\n",
       "    </tr>\n",
       "    <tr>\n",
       "      <th>76122</th>\n",
       "      <td>85</td>\n",
       "      <td>ELECTRICAL MACHINERY AND EQUIPMENT AND PARTS T...</td>\n",
       "      <td>NaN</td>\n",
       "      <td>ZIMBABWE</td>\n",
       "      <td>2010</td>\n",
       "    </tr>\n",
       "    <tr>\n",
       "      <th>76123</th>\n",
       "      <td>99</td>\n",
       "      <td>MISCELLANEOUS GOODS.</td>\n",
       "      <td>NaN</td>\n",
       "      <td>ZIMBABWE</td>\n",
       "      <td>2010</td>\n",
       "    </tr>\n",
       "  </tbody>\n",
       "</table>\n",
       "<p>76124 rows × 5 columns</p>\n",
       "</div>"
      ],
      "text/plain": [
       "       HSCode                                          Commodity   value  \\\n",
       "0           5  PRODUCTS OF ANIMAL ORIGIN, NOT ELSEWHERE SPECI...    0.00   \n",
       "1           7    EDIBLE VEGETABLES AND CERTAIN ROOTS AND TUBERS.   12.38   \n",
       "2           8  EDIBLE FRUIT AND NUTS; PEEL OR CITRUS FRUIT OR...  268.60   \n",
       "3           9                      COFFEE, TEA, MATE AND SPICES.   35.48   \n",
       "4          11  PRODUCTS OF THE MILLING INDUSTRY; MALT; STARCH...     NaN   \n",
       "...       ...                                                ...     ...   \n",
       "76119      81      OTHER BASE METALS; CERMETS; ARTICLES THEREOF.    0.14   \n",
       "76120      82  TOOLS IMPLEMENTS, CUTLERY, SPOONS AND FORKS, O...    0.00   \n",
       "76121      84  NUCLEAR REACTORS, BOILERS, MACHINERY AND MECHA...     NaN   \n",
       "76122      85  ELECTRICAL MACHINERY AND EQUIPMENT AND PARTS T...     NaN   \n",
       "76123      99                               MISCELLANEOUS GOODS.     NaN   \n",
       "\n",
       "               country  year  \n",
       "0      AFGHANISTAN TIS  2018  \n",
       "1      AFGHANISTAN TIS  2018  \n",
       "2      AFGHANISTAN TIS  2018  \n",
       "3      AFGHANISTAN TIS  2018  \n",
       "4      AFGHANISTAN TIS  2018  \n",
       "...                ...   ...  \n",
       "76119         ZIMBABWE  2010  \n",
       "76120         ZIMBABWE  2010  \n",
       "76121         ZIMBABWE  2010  \n",
       "76122         ZIMBABWE  2010  \n",
       "76123         ZIMBABWE  2010  \n",
       "\n",
       "[76124 rows x 5 columns]"
      ]
     },
     "execution_count": 3,
     "metadata": {},
     "output_type": "execute_result"
    }
   ],
   "source": [
    "import_data"
   ]
  },
  {
   "cell_type": "code",
   "execution_count": 4,
   "id": "81089de7",
   "metadata": {},
   "outputs": [
    {
     "data": {
      "text/plain": [
       "<bound method NDFrame.head of        HSCode                                          Commodity   value  \\\n",
       "0           5  PRODUCTS OF ANIMAL ORIGIN, NOT ELSEWHERE SPECI...    0.00   \n",
       "1           7    EDIBLE VEGETABLES AND CERTAIN ROOTS AND TUBERS.   12.38   \n",
       "2           8  EDIBLE FRUIT AND NUTS; PEEL OR CITRUS FRUIT OR...  268.60   \n",
       "3           9                      COFFEE, TEA, MATE AND SPICES.   35.48   \n",
       "4          11  PRODUCTS OF THE MILLING INDUSTRY; MALT; STARCH...     NaN   \n",
       "...       ...                                                ...     ...   \n",
       "76119      81      OTHER BASE METALS; CERMETS; ARTICLES THEREOF.    0.14   \n",
       "76120      82  TOOLS IMPLEMENTS, CUTLERY, SPOONS AND FORKS, O...    0.00   \n",
       "76121      84  NUCLEAR REACTORS, BOILERS, MACHINERY AND MECHA...     NaN   \n",
       "76122      85  ELECTRICAL MACHINERY AND EQUIPMENT AND PARTS T...     NaN   \n",
       "76123      99                               MISCELLANEOUS GOODS.     NaN   \n",
       "\n",
       "               country  year  \n",
       "0      AFGHANISTAN TIS  2018  \n",
       "1      AFGHANISTAN TIS  2018  \n",
       "2      AFGHANISTAN TIS  2018  \n",
       "3      AFGHANISTAN TIS  2018  \n",
       "4      AFGHANISTAN TIS  2018  \n",
       "...                ...   ...  \n",
       "76119         ZIMBABWE  2010  \n",
       "76120         ZIMBABWE  2010  \n",
       "76121         ZIMBABWE  2010  \n",
       "76122         ZIMBABWE  2010  \n",
       "76123         ZIMBABWE  2010  \n",
       "\n",
       "[76124 rows x 5 columns]>"
      ]
     },
     "execution_count": 4,
     "metadata": {},
     "output_type": "execute_result"
    }
   ],
   "source": [
    "import_data.head"
   ]
  },
  {
   "cell_type": "code",
   "execution_count": 5,
   "id": "1805dd8f",
   "metadata": {},
   "outputs": [
    {
     "data": {
      "text/plain": [
       "Index(['HSCode', 'Commodity', 'value', 'country', 'year'], dtype='object')"
      ]
     },
     "execution_count": 5,
     "metadata": {},
     "output_type": "execute_result"
    }
   ],
   "source": [
    "import_data.columns"
   ]
  },
  {
   "cell_type": "code",
   "execution_count": 6,
   "id": "54c0cbff",
   "metadata": {},
   "outputs": [
    {
     "data": {
      "text/plain": [
       "(76124, 5)"
      ]
     },
     "execution_count": 6,
     "metadata": {},
     "output_type": "execute_result"
    }
   ],
   "source": [
    "import_data.shape"
   ]
  },
  {
   "cell_type": "code",
   "execution_count": 7,
   "id": "303e8036",
   "metadata": {},
   "outputs": [
    {
     "name": "stdout",
     "output_type": "stream",
     "text": [
      "<class 'pandas.core.frame.DataFrame'>\n",
      "RangeIndex: 76124 entries, 0 to 76123\n",
      "Data columns (total 5 columns):\n",
      " #   Column     Non-Null Count  Dtype  \n",
      "---  ------     --------------  -----  \n",
      " 0   HSCode     76124 non-null  int64  \n",
      " 1   Commodity  76124 non-null  object \n",
      " 2   value      64536 non-null  float64\n",
      " 3   country    76124 non-null  object \n",
      " 4   year       76124 non-null  int64  \n",
      "dtypes: float64(1), int64(2), object(2)\n",
      "memory usage: 2.9+ MB\n"
     ]
    }
   ],
   "source": [
    "import_data.info()"
   ]
  },
  {
   "cell_type": "code",
   "execution_count": 8,
   "id": "832f77b2",
   "metadata": {},
   "outputs": [
    {
     "data": {
      "text/html": [
       "<div>\n",
       "<style scoped>\n",
       "    .dataframe tbody tr th:only-of-type {\n",
       "        vertical-align: middle;\n",
       "    }\n",
       "\n",
       "    .dataframe tbody tr th {\n",
       "        vertical-align: top;\n",
       "    }\n",
       "\n",
       "    .dataframe thead th {\n",
       "        text-align: right;\n",
       "    }\n",
       "</style>\n",
       "<table border=\"1\" class=\"dataframe\">\n",
       "  <thead>\n",
       "    <tr style=\"text-align: right;\">\n",
       "      <th></th>\n",
       "      <th>HSCode</th>\n",
       "      <th>value</th>\n",
       "      <th>year</th>\n",
       "    </tr>\n",
       "  </thead>\n",
       "  <tbody>\n",
       "    <tr>\n",
       "      <th>count</th>\n",
       "      <td>76124.000000</td>\n",
       "      <td>64536.000000</td>\n",
       "      <td>76124.000000</td>\n",
       "    </tr>\n",
       "    <tr>\n",
       "      <th>mean</th>\n",
       "      <td>53.905023</td>\n",
       "      <td>62.361425</td>\n",
       "      <td>2014.018299</td>\n",
       "    </tr>\n",
       "    <tr>\n",
       "      <th>std</th>\n",
       "      <td>27.546852</td>\n",
       "      <td>666.327177</td>\n",
       "      <td>2.579385</td>\n",
       "    </tr>\n",
       "    <tr>\n",
       "      <th>min</th>\n",
       "      <td>1.000000</td>\n",
       "      <td>0.000000</td>\n",
       "      <td>2010.000000</td>\n",
       "    </tr>\n",
       "    <tr>\n",
       "      <th>25%</th>\n",
       "      <td>30.000000</td>\n",
       "      <td>0.030000</td>\n",
       "      <td>2012.000000</td>\n",
       "    </tr>\n",
       "    <tr>\n",
       "      <th>50%</th>\n",
       "      <td>54.000000</td>\n",
       "      <td>0.370000</td>\n",
       "      <td>2014.000000</td>\n",
       "    </tr>\n",
       "    <tr>\n",
       "      <th>75%</th>\n",
       "      <td>78.000000</td>\n",
       "      <td>4.780000</td>\n",
       "      <td>2016.000000</td>\n",
       "    </tr>\n",
       "    <tr>\n",
       "      <th>max</th>\n",
       "      <td>99.000000</td>\n",
       "      <td>32781.570000</td>\n",
       "      <td>2018.000000</td>\n",
       "    </tr>\n",
       "  </tbody>\n",
       "</table>\n",
       "</div>"
      ],
      "text/plain": [
       "             HSCode         value          year\n",
       "count  76124.000000  64536.000000  76124.000000\n",
       "mean      53.905023     62.361425   2014.018299\n",
       "std       27.546852    666.327177      2.579385\n",
       "min        1.000000      0.000000   2010.000000\n",
       "25%       30.000000      0.030000   2012.000000\n",
       "50%       54.000000      0.370000   2014.000000\n",
       "75%       78.000000      4.780000   2016.000000\n",
       "max       99.000000  32781.570000   2018.000000"
      ]
     },
     "execution_count": 8,
     "metadata": {},
     "output_type": "execute_result"
    }
   ],
   "source": [
    "import_data.describe()"
   ]
  },
  {
   "cell_type": "code",
   "execution_count": 9,
   "id": "bd1d23c0",
   "metadata": {},
   "outputs": [
    {
     "data": {
      "text/plain": [
       "BELGIUM            953\n",
       "AUSTRALIA          920\n",
       "U S A              880\n",
       "GERMANY            874\n",
       "ITALY              873\n",
       "                  ... \n",
       "MICRONESIA           4\n",
       "PACIFIC IS           4\n",
       "STATE OF PALEST      2\n",
       "JERSEY               1\n",
       "CHANNEL IS           1\n",
       "Name: country, Length: 242, dtype: int64"
      ]
     },
     "execution_count": 9,
     "metadata": {},
     "output_type": "execute_result"
    }
   ],
   "source": [
    "import_data['country'].value_counts()"
   ]
  },
  {
   "cell_type": "code",
   "execution_count": 10,
   "id": "ab977216",
   "metadata": {},
   "outputs": [
    {
     "data": {
      "text/plain": [
       "HSCode           0\n",
       "Commodity        0\n",
       "value        11588\n",
       "country          0\n",
       "year             0\n",
       "dtype: int64"
      ]
     },
     "execution_count": 10,
     "metadata": {},
     "output_type": "execute_result"
    }
   ],
   "source": [
    "import_data.isnull().sum()"
   ]
  },
  {
   "cell_type": "code",
   "execution_count": 11,
   "id": "6f979ed0",
   "metadata": {},
   "outputs": [
    {
     "data": {
      "text/plain": [
       "ELECTRICAL MACHINERY AND EQUIPMENT AND PARTS THEREOF; SOUND RECORDERS AND REPRODUCERS, TELEVISION IMAGE AND SOUND RECORDERS AND REPRODUCERS,AND PARTS.    1778\n",
       "NUCLEAR REACTORS, BOILERS, MACHINERY AND MECHANICAL APPLIANCES; PARTS THEREOF.                                                                            1711\n",
       "MISCELLANEOUS GOODS.                                                                                                                                      1533\n",
       "PLASTIC AND ARTICLES THEREOF.                                                                                                                             1525\n",
       "IRON AND STEEL                                                                                                                                            1502\n",
       "                                                                                                                                                          ... \n",
       "CORK AND ARTICLES OF CORK.                                                                                                                                 277\n",
       "PREPARATIONS OF MEAT, OF FISH OR OF CRUSTACEANS, MOLLUSCS OR OTHER AQUATIC INVERTEBRATES                                                                   233\n",
       "VEGETABLE PLAITING MATERIALS; VEGETABLE PRODUCTS NOT ELSEWHERE SPECIFIED OR INCLUDED.                                                                      222\n",
       "EXPLOSIVES; PYROTECHNIC PRODUCTS; MATCHES; PYROPHORIC ALLOYS; CERTAIN COMBUSTIBLE PREPARATIONS.                                                            207\n",
       "MEAT AND EDIBLE MEAT OFFAL.                                                                                                                                158\n",
       "Name: Commodity, Length: 98, dtype: int64"
      ]
     },
     "execution_count": 11,
     "metadata": {},
     "output_type": "execute_result"
    }
   ],
   "source": [
    "import_data.Commodity.value_counts()"
   ]
  },
  {
   "cell_type": "code",
   "execution_count": 12,
   "id": "298706c5",
   "metadata": {},
   "outputs": [
    {
     "data": {
      "text/plain": [
       "year  Commodity                                                                                                  \n",
       "2010  AIRCRAFT, SPACECRAFT, AND PARTS THEREOF.                                                                        48.484789\n",
       "      ALBUMINOIDAL SUBSTANCES; MODIFIED STARCHES; GLUES; ENZYMES.                                                      3.231429\n",
       "      ALUMINIUM AND ARTICLES THEREOF.                                                                                 16.580970\n",
       "      ANIMAL OR VEGETABLE FATS AND OILS AND THEIR CLEAVAGE PRODUCTS; PRE. EDIBLE FATS; ANIMAL OR VEGETABLE WAXEX.    115.685789\n",
       "      ARMS AND AMMUNITION; PARTS AND ACCESSORIES THEREOF.                                                              0.191923\n",
       "                                                                                                                        ...    \n",
       "2018  WADDING, FELT AND NONWOVENS; SPACIAL YARNS; TWINE, CORDAGE, ROPES AND CABLES AND ARTICLES THEREOF.               5.473182\n",
       "      WOOD AND ARTICLES OF WOOD; WOOD CHARCOAL.                                                                       19.062308\n",
       "      WOOL, FINE OR COARSE ANIMAL HAIR, HORSEHAIR YARN AND WOVEN FABRIC.                                               5.410141\n",
       "      WORKS OF ART COLLECTORS' PIECES AND ANTIQUES.                                                                    1.583667\n",
       "      ZINC AND ARTICLES THEREOF.                                                                                       8.351340\n",
       "Name: value, Length: 882, dtype: float64"
      ]
     },
     "execution_count": 12,
     "metadata": {},
     "output_type": "execute_result"
    }
   ],
   "source": [
    "import_data.groupby(['year','Commodity'])['value'].mean()"
   ]
  },
  {
   "cell_type": "code",
   "execution_count": 13,
   "id": "e4362220",
   "metadata": {},
   "outputs": [],
   "source": [
    "import_data['value'] = import_data['value'].fillna(import_data.groupby(['year','Commodity'])['value'].transform('mean'))"
   ]
  },
  {
   "cell_type": "code",
   "execution_count": 14,
   "id": "c8e2de0f",
   "metadata": {},
   "outputs": [
    {
     "data": {
      "text/plain": [
       "HSCode       0\n",
       "Commodity    0\n",
       "value        0\n",
       "country      0\n",
       "year         0\n",
       "dtype: int64"
      ]
     },
     "execution_count": 14,
     "metadata": {},
     "output_type": "execute_result"
    }
   ],
   "source": [
    "import_data.isnull().sum()"
   ]
  },
  {
   "cell_type": "code",
   "execution_count": 15,
   "id": "efe2b525",
   "metadata": {},
   "outputs": [
    {
     "data": {
      "text/html": [
       "<div>\n",
       "<style scoped>\n",
       "    .dataframe tbody tr th:only-of-type {\n",
       "        vertical-align: middle;\n",
       "    }\n",
       "\n",
       "    .dataframe tbody tr th {\n",
       "        vertical-align: top;\n",
       "    }\n",
       "\n",
       "    .dataframe thead th {\n",
       "        text-align: right;\n",
       "    }\n",
       "</style>\n",
       "<table border=\"1\" class=\"dataframe\">\n",
       "  <thead>\n",
       "    <tr style=\"text-align: right;\">\n",
       "      <th></th>\n",
       "      <th>HSCode</th>\n",
       "      <th>value</th>\n",
       "      <th>year</th>\n",
       "    </tr>\n",
       "  </thead>\n",
       "  <tbody>\n",
       "    <tr>\n",
       "      <th>count</th>\n",
       "      <td>137023.000000</td>\n",
       "      <td>122985.000000</td>\n",
       "      <td>137023.000000</td>\n",
       "    </tr>\n",
       "    <tr>\n",
       "      <th>mean</th>\n",
       "      <td>51.330302</td>\n",
       "      <td>21.567829</td>\n",
       "      <td>2014.056304</td>\n",
       "    </tr>\n",
       "    <tr>\n",
       "      <th>std</th>\n",
       "      <td>28.018026</td>\n",
       "      <td>229.701279</td>\n",
       "      <td>2.580160</td>\n",
       "    </tr>\n",
       "    <tr>\n",
       "      <th>min</th>\n",
       "      <td>1.000000</td>\n",
       "      <td>0.000000</td>\n",
       "      <td>2010.000000</td>\n",
       "    </tr>\n",
       "    <tr>\n",
       "      <th>25%</th>\n",
       "      <td>28.000000</td>\n",
       "      <td>0.030000</td>\n",
       "      <td>2012.000000</td>\n",
       "    </tr>\n",
       "    <tr>\n",
       "      <th>50%</th>\n",
       "      <td>52.000000</td>\n",
       "      <td>0.360000</td>\n",
       "      <td>2014.000000</td>\n",
       "    </tr>\n",
       "    <tr>\n",
       "      <th>75%</th>\n",
       "      <td>74.000000</td>\n",
       "      <td>3.770000</td>\n",
       "      <td>2016.000000</td>\n",
       "    </tr>\n",
       "    <tr>\n",
       "      <th>max</th>\n",
       "      <td>99.000000</td>\n",
       "      <td>19805.170000</td>\n",
       "      <td>2018.000000</td>\n",
       "    </tr>\n",
       "  </tbody>\n",
       "</table>\n",
       "</div>"
      ],
      "text/plain": [
       "              HSCode          value           year\n",
       "count  137023.000000  122985.000000  137023.000000\n",
       "mean       51.330302      21.567829    2014.056304\n",
       "std        28.018026     229.701279       2.580160\n",
       "min         1.000000       0.000000    2010.000000\n",
       "25%        28.000000       0.030000    2012.000000\n",
       "50%        52.000000       0.360000    2014.000000\n",
       "75%        74.000000       3.770000    2016.000000\n",
       "max        99.000000   19805.170000    2018.000000"
      ]
     },
     "execution_count": 15,
     "metadata": {},
     "output_type": "execute_result"
    }
   ],
   "source": [
    "export_data.describe()"
   ]
  },
  {
   "cell_type": "code",
   "execution_count": 16,
   "id": "997fcc7f",
   "metadata": {},
   "outputs": [
    {
     "name": "stdout",
     "output_type": "stream",
     "text": [
      "<class 'pandas.core.frame.DataFrame'>\n",
      "RangeIndex: 137023 entries, 0 to 137022\n",
      "Data columns (total 5 columns):\n",
      " #   Column     Non-Null Count   Dtype  \n",
      "---  ------     --------------   -----  \n",
      " 0   HSCode     137023 non-null  int64  \n",
      " 1   Commodity  137023 non-null  object \n",
      " 2   value      122985 non-null  float64\n",
      " 3   country    137023 non-null  object \n",
      " 4   year       137023 non-null  int64  \n",
      "dtypes: float64(1), int64(2), object(2)\n",
      "memory usage: 5.2+ MB\n"
     ]
    }
   ],
   "source": [
    "export_data.info()"
   ]
  },
  {
   "cell_type": "code",
   "execution_count": 17,
   "id": "d3825b26",
   "metadata": {},
   "outputs": [
    {
     "data": {
      "text/plain": [
       "(137023, 5)"
      ]
     },
     "execution_count": 17,
     "metadata": {},
     "output_type": "execute_result"
    }
   ],
   "source": [
    "export_data.shape"
   ]
  },
  {
   "cell_type": "code",
   "execution_count": 18,
   "id": "183eb59f",
   "metadata": {},
   "outputs": [
    {
     "data": {
      "text/plain": [
       "U ARAB EMTS                                 882\n",
       "U S A                                       881\n",
       "NEPAL                                       881\n",
       "GERMANY                                     881\n",
       "MALAYSIA                                    880\n",
       "                                           ... \n",
       "CURACAO                                       4\n",
       "GUERNSEY                                      4\n",
       "INSTALLATIONS IN INTERNATIONAL WATERS         4\n",
       "SINT MAARTEN (DUTCH PART)                     3\n",
       "JERSEY                                        2\n",
       "Name: country, Length: 248, dtype: int64"
      ]
     },
     "execution_count": 18,
     "metadata": {},
     "output_type": "execute_result"
    }
   ],
   "source": [
    "export_data['country'].value_counts()"
   ]
  },
  {
   "cell_type": "code",
   "execution_count": 19,
   "id": "3a24c789",
   "metadata": {},
   "outputs": [
    {
     "data": {
      "text/plain": [
       "HSCode           0\n",
       "Commodity        0\n",
       "value        14038\n",
       "country          0\n",
       "year             0\n",
       "dtype: int64"
      ]
     },
     "execution_count": 19,
     "metadata": {},
     "output_type": "execute_result"
    }
   ],
   "source": [
    "export_data.isnull().sum()"
   ]
  },
  {
   "cell_type": "code",
   "execution_count": 20,
   "id": "52829def",
   "metadata": {},
   "outputs": [],
   "source": [
    "export_data['value'] = export_data['value'].fillna(export_data.groupby(['year', 'Commodity'])['value'].transform('mean'))"
   ]
  },
  {
   "cell_type": "code",
   "execution_count": 21,
   "id": "a83f06b6",
   "metadata": {},
   "outputs": [
    {
     "data": {
      "text/plain": [
       "HSCode       0\n",
       "Commodity    0\n",
       "value        0\n",
       "country      0\n",
       "year         0\n",
       "dtype: int64"
      ]
     },
     "execution_count": 21,
     "metadata": {},
     "output_type": "execute_result"
    }
   ],
   "source": [
    "export_data.isnull().sum()"
   ]
  },
  {
   "cell_type": "markdown",
   "id": "3b9cda33",
   "metadata": {},
   "source": [
    "## Enrich the Data"
   ]
  },
  {
   "cell_type": "code",
   "execution_count": 22,
   "id": "c9e33554",
   "metadata": {},
   "outputs": [
    {
     "data": {
      "text/html": [
       "<div>\n",
       "<style scoped>\n",
       "    .dataframe tbody tr th:only-of-type {\n",
       "        vertical-align: middle;\n",
       "    }\n",
       "\n",
       "    .dataframe tbody tr th {\n",
       "        vertical-align: top;\n",
       "    }\n",
       "\n",
       "    .dataframe thead th {\n",
       "        text-align: right;\n",
       "    }\n",
       "</style>\n",
       "<table border=\"1\" class=\"dataframe\">\n",
       "  <thead>\n",
       "    <tr style=\"text-align: right;\">\n",
       "      <th></th>\n",
       "      <th>HSCode</th>\n",
       "      <th>Commodity</th>\n",
       "      <th>value</th>\n",
       "      <th>country</th>\n",
       "      <th>year</th>\n",
       "    </tr>\n",
       "  </thead>\n",
       "  <tbody>\n",
       "    <tr>\n",
       "      <th>0</th>\n",
       "      <td>5</td>\n",
       "      <td>PRODUCTS OF ANIMAL ORIGIN, NOT ELSEWHERE SPECI...</td>\n",
       "      <td>0.000000</td>\n",
       "      <td>AFGHANISTAN TIS</td>\n",
       "      <td>2018</td>\n",
       "    </tr>\n",
       "    <tr>\n",
       "      <th>1</th>\n",
       "      <td>7</td>\n",
       "      <td>EDIBLE VEGETABLES AND CERTAIN ROOTS AND TUBERS.</td>\n",
       "      <td>12.380000</td>\n",
       "      <td>AFGHANISTAN TIS</td>\n",
       "      <td>2018</td>\n",
       "    </tr>\n",
       "    <tr>\n",
       "      <th>2</th>\n",
       "      <td>8</td>\n",
       "      <td>EDIBLE FRUIT AND NUTS; PEEL OR CITRUS FRUIT OR...</td>\n",
       "      <td>268.600000</td>\n",
       "      <td>AFGHANISTAN TIS</td>\n",
       "      <td>2018</td>\n",
       "    </tr>\n",
       "    <tr>\n",
       "      <th>3</th>\n",
       "      <td>9</td>\n",
       "      <td>COFFEE, TEA, MATE AND SPICES.</td>\n",
       "      <td>35.480000</td>\n",
       "      <td>AFGHANISTAN TIS</td>\n",
       "      <td>2018</td>\n",
       "    </tr>\n",
       "    <tr>\n",
       "      <th>4</th>\n",
       "      <td>11</td>\n",
       "      <td>PRODUCTS OF THE MILLING INDUSTRY; MALT; STARCH...</td>\n",
       "      <td>1.676136</td>\n",
       "      <td>AFGHANISTAN TIS</td>\n",
       "      <td>2018</td>\n",
       "    </tr>\n",
       "  </tbody>\n",
       "</table>\n",
       "</div>"
      ],
      "text/plain": [
       "   HSCode                                          Commodity       value  \\\n",
       "0       5  PRODUCTS OF ANIMAL ORIGIN, NOT ELSEWHERE SPECI...    0.000000   \n",
       "1       7    EDIBLE VEGETABLES AND CERTAIN ROOTS AND TUBERS.   12.380000   \n",
       "2       8  EDIBLE FRUIT AND NUTS; PEEL OR CITRUS FRUIT OR...  268.600000   \n",
       "3       9                      COFFEE, TEA, MATE AND SPICES.   35.480000   \n",
       "4      11  PRODUCTS OF THE MILLING INDUSTRY; MALT; STARCH...    1.676136   \n",
       "\n",
       "           country  year  \n",
       "0  AFGHANISTAN TIS  2018  \n",
       "1  AFGHANISTAN TIS  2018  \n",
       "2  AFGHANISTAN TIS  2018  \n",
       "3  AFGHANISTAN TIS  2018  \n",
       "4  AFGHANISTAN TIS  2018  "
      ]
     },
     "execution_count": 22,
     "metadata": {},
     "output_type": "execute_result"
    }
   ],
   "source": [
    "import_data.head()"
   ]
  },
  {
   "cell_type": "code",
   "execution_count": 23,
   "id": "8f60717f",
   "metadata": {},
   "outputs": [
    {
     "data": {
      "text/plain": [
       "array([2018, 2017, 2016, 2015, 2014, 2013, 2012, 2011, 2010], dtype=int64)"
      ]
     },
     "execution_count": 23,
     "metadata": {},
     "output_type": "execute_result"
    }
   ],
   "source": [
    "import_data['year'].unique()"
   ]
  },
  {
   "cell_type": "code",
   "execution_count": 24,
   "id": "e7c15cae",
   "metadata": {},
   "outputs": [
    {
     "data": {
      "text/plain": [
       "[2010, 2011, 2012, 2013, 2014, 2015, 2016, 2017, 2018]"
      ]
     },
     "execution_count": 24,
     "metadata": {},
     "output_type": "execute_result"
    }
   ],
   "source": [
    "grouped_year = [2018, 2017, 2016, 2015, 2014, 2013, 2012, 2011, 2010]\n",
    "grouped_year.sort()\n",
    "grouped_year"
   ]
  },
  {
   "cell_type": "code",
   "execution_count": 25,
   "id": "d7793acb",
   "metadata": {},
   "outputs": [
    {
     "data": {
      "text/plain": [
       "year\n",
       "2010    430846.098634\n",
       "2011    565867.488057\n",
       "2012    572355.567308\n",
       "2013    527605.033988\n",
       "2014    509895.317456\n",
       "2015    474805.431401\n",
       "2016    450050.584759\n",
       "2017    527996.053705\n",
       "2018    587269.148269\n",
       "Name: value, dtype: float64"
      ]
     },
     "execution_count": 25,
     "metadata": {},
     "output_type": "execute_result"
    }
   ],
   "source": [
    "value1 = import_data.groupby('year')['value'].sum()\n",
    "value1"
   ]
  },
  {
   "cell_type": "code",
   "execution_count": 26,
   "id": "4db74cfd",
   "metadata": {},
   "outputs": [
    {
     "data": {
      "text/plain": [
       "[430846.09863411094,\n",
       " 565867.4880568036,\n",
       " 572355.5673082676,\n",
       " 527605.0339878093,\n",
       " 509895.31745592505,\n",
       " 474805.43140077125,\n",
       " 450050.5847593892,\n",
       " 527996.0537051144,\n",
       " 587269.1482689087]"
      ]
     },
     "execution_count": 26,
     "metadata": {},
     "output_type": "execute_result"
    }
   ],
   "source": [
    "import_value = list(value1)\n",
    "import_value"
   ]
  },
  {
   "cell_type": "code",
   "execution_count": 27,
   "id": "3154a031",
   "metadata": {},
   "outputs": [
    {
     "data": {
      "text/html": [
       "<div>\n",
       "<style scoped>\n",
       "    .dataframe tbody tr th:only-of-type {\n",
       "        vertical-align: middle;\n",
       "    }\n",
       "\n",
       "    .dataframe tbody tr th {\n",
       "        vertical-align: top;\n",
       "    }\n",
       "\n",
       "    .dataframe thead th {\n",
       "        text-align: right;\n",
       "    }\n",
       "</style>\n",
       "<table border=\"1\" class=\"dataframe\">\n",
       "  <thead>\n",
       "    <tr style=\"text-align: right;\">\n",
       "      <th></th>\n",
       "      <th>HSCode</th>\n",
       "      <th>Commodity</th>\n",
       "      <th>value</th>\n",
       "      <th>country</th>\n",
       "      <th>year</th>\n",
       "    </tr>\n",
       "  </thead>\n",
       "  <tbody>\n",
       "    <tr>\n",
       "      <th>0</th>\n",
       "      <td>2</td>\n",
       "      <td>MEAT AND EDIBLE MEAT OFFAL.</td>\n",
       "      <td>0.18</td>\n",
       "      <td>AFGHANISTAN TIS</td>\n",
       "      <td>2018</td>\n",
       "    </tr>\n",
       "    <tr>\n",
       "      <th>1</th>\n",
       "      <td>3</td>\n",
       "      <td>FISH AND CRUSTACEANS, MOLLUSCS AND OTHER AQUAT...</td>\n",
       "      <td>0.00</td>\n",
       "      <td>AFGHANISTAN TIS</td>\n",
       "      <td>2018</td>\n",
       "    </tr>\n",
       "    <tr>\n",
       "      <th>2</th>\n",
       "      <td>4</td>\n",
       "      <td>DAIRY PRODUCE; BIRDS' EGGS; NATURAL HONEY; EDI...</td>\n",
       "      <td>12.48</td>\n",
       "      <td>AFGHANISTAN TIS</td>\n",
       "      <td>2018</td>\n",
       "    </tr>\n",
       "    <tr>\n",
       "      <th>3</th>\n",
       "      <td>6</td>\n",
       "      <td>LIVE TREES AND OTHER PLANTS; BULBS; ROOTS AND ...</td>\n",
       "      <td>0.00</td>\n",
       "      <td>AFGHANISTAN TIS</td>\n",
       "      <td>2018</td>\n",
       "    </tr>\n",
       "    <tr>\n",
       "      <th>4</th>\n",
       "      <td>7</td>\n",
       "      <td>EDIBLE VEGETABLES AND CERTAIN ROOTS AND TUBERS.</td>\n",
       "      <td>1.89</td>\n",
       "      <td>AFGHANISTAN TIS</td>\n",
       "      <td>2018</td>\n",
       "    </tr>\n",
       "  </tbody>\n",
       "</table>\n",
       "</div>"
      ],
      "text/plain": [
       "   HSCode                                          Commodity  value  \\\n",
       "0       2                        MEAT AND EDIBLE MEAT OFFAL.   0.18   \n",
       "1       3  FISH AND CRUSTACEANS, MOLLUSCS AND OTHER AQUAT...   0.00   \n",
       "2       4  DAIRY PRODUCE; BIRDS' EGGS; NATURAL HONEY; EDI...  12.48   \n",
       "3       6  LIVE TREES AND OTHER PLANTS; BULBS; ROOTS AND ...   0.00   \n",
       "4       7    EDIBLE VEGETABLES AND CERTAIN ROOTS AND TUBERS.   1.89   \n",
       "\n",
       "           country  year  \n",
       "0  AFGHANISTAN TIS  2018  \n",
       "1  AFGHANISTAN TIS  2018  \n",
       "2  AFGHANISTAN TIS  2018  \n",
       "3  AFGHANISTAN TIS  2018  \n",
       "4  AFGHANISTAN TIS  2018  "
      ]
     },
     "execution_count": 27,
     "metadata": {},
     "output_type": "execute_result"
    }
   ],
   "source": [
    "export_data.head()"
   ]
  },
  {
   "cell_type": "code",
   "execution_count": 28,
   "id": "ce20b735",
   "metadata": {},
   "outputs": [
    {
     "data": {
      "text/plain": [
       "year\n",
       "2010    274958.577359\n",
       "2011    332628.533700\n",
       "2012    326586.529422\n",
       "2013    340018.246200\n",
       "2014    335734.075638\n",
       "2015    287303.724127\n",
       "2016    297623.139321\n",
       "2017    322783.907080\n",
       "2018    351478.480924\n",
       "Name: value, dtype: float64"
      ]
     },
     "execution_count": 28,
     "metadata": {},
     "output_type": "execute_result"
    }
   ],
   "source": [
    "value2 = export_data.groupby('year')['value'].sum()\n",
    "value2"
   ]
  },
  {
   "cell_type": "code",
   "execution_count": 29,
   "id": "ff009a85",
   "metadata": {},
   "outputs": [
    {
     "data": {
      "text/plain": [
       "[274958.5773589854,\n",
       " 332628.5337001326,\n",
       " 326586.52942220296,\n",
       " 340018.246199534,\n",
       " 335734.07563827373,\n",
       " 287303.72412658815,\n",
       " 297623.1393212401,\n",
       " 322783.90708046796,\n",
       " 351478.48092386464]"
      ]
     },
     "execution_count": 29,
     "metadata": {},
     "output_type": "execute_result"
    }
   ],
   "source": [
    "export_value = list(value2)\n",
    "export_value"
   ]
  },
  {
   "cell_type": "code",
   "execution_count": 30,
   "id": "75bd5ffd",
   "metadata": {},
   "outputs": [
    {
     "data": {
      "text/html": [
       "<div>\n",
       "<style scoped>\n",
       "    .dataframe tbody tr th:only-of-type {\n",
       "        vertical-align: middle;\n",
       "    }\n",
       "\n",
       "    .dataframe tbody tr th {\n",
       "        vertical-align: top;\n",
       "    }\n",
       "\n",
       "    .dataframe thead th {\n",
       "        text-align: right;\n",
       "    }\n",
       "</style>\n",
       "<table border=\"1\" class=\"dataframe\">\n",
       "  <thead>\n",
       "    <tr style=\"text-align: right;\">\n",
       "      <th></th>\n",
       "      <th>0</th>\n",
       "      <th>1</th>\n",
       "      <th>2</th>\n",
       "    </tr>\n",
       "  </thead>\n",
       "  <tbody>\n",
       "    <tr>\n",
       "      <th>0</th>\n",
       "      <td>2010</td>\n",
       "      <td>430846.098634</td>\n",
       "      <td>274958.577359</td>\n",
       "    </tr>\n",
       "    <tr>\n",
       "      <th>1</th>\n",
       "      <td>2011</td>\n",
       "      <td>565867.488057</td>\n",
       "      <td>332628.533700</td>\n",
       "    </tr>\n",
       "    <tr>\n",
       "      <th>2</th>\n",
       "      <td>2012</td>\n",
       "      <td>572355.567308</td>\n",
       "      <td>326586.529422</td>\n",
       "    </tr>\n",
       "    <tr>\n",
       "      <th>3</th>\n",
       "      <td>2013</td>\n",
       "      <td>527605.033988</td>\n",
       "      <td>340018.246200</td>\n",
       "    </tr>\n",
       "    <tr>\n",
       "      <th>4</th>\n",
       "      <td>2014</td>\n",
       "      <td>509895.317456</td>\n",
       "      <td>335734.075638</td>\n",
       "    </tr>\n",
       "    <tr>\n",
       "      <th>5</th>\n",
       "      <td>2015</td>\n",
       "      <td>474805.431401</td>\n",
       "      <td>287303.724127</td>\n",
       "    </tr>\n",
       "    <tr>\n",
       "      <th>6</th>\n",
       "      <td>2016</td>\n",
       "      <td>450050.584759</td>\n",
       "      <td>297623.139321</td>\n",
       "    </tr>\n",
       "    <tr>\n",
       "      <th>7</th>\n",
       "      <td>2017</td>\n",
       "      <td>527996.053705</td>\n",
       "      <td>322783.907080</td>\n",
       "    </tr>\n",
       "    <tr>\n",
       "      <th>8</th>\n",
       "      <td>2018</td>\n",
       "      <td>587269.148269</td>\n",
       "      <td>351478.480924</td>\n",
       "    </tr>\n",
       "  </tbody>\n",
       "</table>\n",
       "</div>"
      ],
      "text/plain": [
       "      0              1              2\n",
       "0  2010  430846.098634  274958.577359\n",
       "1  2011  565867.488057  332628.533700\n",
       "2  2012  572355.567308  326586.529422\n",
       "3  2013  527605.033988  340018.246200\n",
       "4  2014  509895.317456  335734.075638\n",
       "5  2015  474805.431401  287303.724127\n",
       "6  2016  450050.584759  297623.139321\n",
       "7  2017  527996.053705  322783.907080\n",
       "8  2018  587269.148269  351478.480924"
      ]
     },
     "execution_count": 30,
     "metadata": {},
     "output_type": "execute_result"
    }
   ],
   "source": [
    "merged_data = pd.DataFrame(list(zip(grouped_year, import_value, export_value)))\n",
    "merged_data"
   ]
  },
  {
   "cell_type": "code",
   "execution_count": 31,
   "id": "aa8b59ca",
   "metadata": {},
   "outputs": [
    {
     "data": {
      "text/html": [
       "<div>\n",
       "<style scoped>\n",
       "    .dataframe tbody tr th:only-of-type {\n",
       "        vertical-align: middle;\n",
       "    }\n",
       "\n",
       "    .dataframe tbody tr th {\n",
       "        vertical-align: top;\n",
       "    }\n",
       "\n",
       "    .dataframe thead th {\n",
       "        text-align: right;\n",
       "    }\n",
       "</style>\n",
       "<table border=\"1\" class=\"dataframe\">\n",
       "  <thead>\n",
       "    <tr style=\"text-align: right;\">\n",
       "      <th></th>\n",
       "      <th>year</th>\n",
       "      <th>import_value</th>\n",
       "      <th>export_value</th>\n",
       "    </tr>\n",
       "  </thead>\n",
       "  <tbody>\n",
       "    <tr>\n",
       "      <th>0</th>\n",
       "      <td>2010</td>\n",
       "      <td>430846.098634</td>\n",
       "      <td>274958.577359</td>\n",
       "    </tr>\n",
       "    <tr>\n",
       "      <th>1</th>\n",
       "      <td>2011</td>\n",
       "      <td>565867.488057</td>\n",
       "      <td>332628.533700</td>\n",
       "    </tr>\n",
       "    <tr>\n",
       "      <th>2</th>\n",
       "      <td>2012</td>\n",
       "      <td>572355.567308</td>\n",
       "      <td>326586.529422</td>\n",
       "    </tr>\n",
       "    <tr>\n",
       "      <th>3</th>\n",
       "      <td>2013</td>\n",
       "      <td>527605.033988</td>\n",
       "      <td>340018.246200</td>\n",
       "    </tr>\n",
       "    <tr>\n",
       "      <th>4</th>\n",
       "      <td>2014</td>\n",
       "      <td>509895.317456</td>\n",
       "      <td>335734.075638</td>\n",
       "    </tr>\n",
       "    <tr>\n",
       "      <th>5</th>\n",
       "      <td>2015</td>\n",
       "      <td>474805.431401</td>\n",
       "      <td>287303.724127</td>\n",
       "    </tr>\n",
       "    <tr>\n",
       "      <th>6</th>\n",
       "      <td>2016</td>\n",
       "      <td>450050.584759</td>\n",
       "      <td>297623.139321</td>\n",
       "    </tr>\n",
       "    <tr>\n",
       "      <th>7</th>\n",
       "      <td>2017</td>\n",
       "      <td>527996.053705</td>\n",
       "      <td>322783.907080</td>\n",
       "    </tr>\n",
       "    <tr>\n",
       "      <th>8</th>\n",
       "      <td>2018</td>\n",
       "      <td>587269.148269</td>\n",
       "      <td>351478.480924</td>\n",
       "    </tr>\n",
       "  </tbody>\n",
       "</table>\n",
       "</div>"
      ],
      "text/plain": [
       "   year   import_value   export_value\n",
       "0  2010  430846.098634  274958.577359\n",
       "1  2011  565867.488057  332628.533700\n",
       "2  2012  572355.567308  326586.529422\n",
       "3  2013  527605.033988  340018.246200\n",
       "4  2014  509895.317456  335734.075638\n",
       "5  2015  474805.431401  287303.724127\n",
       "6  2016  450050.584759  297623.139321\n",
       "7  2017  527996.053705  322783.907080\n",
       "8  2018  587269.148269  351478.480924"
      ]
     },
     "execution_count": 31,
     "metadata": {},
     "output_type": "execute_result"
    }
   ],
   "source": [
    "merged_data.columns = ['year', 'import_value', 'export_value']\n",
    "merged_data"
   ]
  },
  {
   "cell_type": "code",
   "execution_count": 32,
   "id": "614bfe97",
   "metadata": {},
   "outputs": [],
   "source": [
    "Top_import_commodity = import_data.pivot_table(index = 'Commodity', values = 'value', aggfunc = np.sum).sort_values('value', ascending = 0).head(3)"
   ]
  },
  {
   "cell_type": "code",
   "execution_count": 33,
   "id": "2b3a844d",
   "metadata": {},
   "outputs": [],
   "source": [
    "Top_export_commodity = export_data.pivot_table(index = 'Commodity', values = 'value', aggfunc = np.sum).sort_values('value', ascending = 0).head(3)"
   ]
  },
  {
   "cell_type": "code",
   "execution_count": 34,
   "id": "0e9788db",
   "metadata": {},
   "outputs": [
    {
     "data": {
      "text/plain": [
       "Index(['HSCode', 'Commodity', 'value', 'country', 'year'], dtype='object')"
      ]
     },
     "execution_count": 34,
     "metadata": {},
     "output_type": "execute_result"
    }
   ],
   "source": [
    "import_data.columns"
   ]
  },
  {
   "cell_type": "code",
   "execution_count": 35,
   "id": "f50fbeb5",
   "metadata": {},
   "outputs": [],
   "source": [
    "Top_import_countries = import_data.pivot_table(index='country', values='value', aggfunc = np.sum).sort_values('value', ascending = 0).head(3)"
   ]
  },
  {
   "cell_type": "code",
   "execution_count": 36,
   "id": "35d813b7",
   "metadata": {},
   "outputs": [
    {
     "data": {
      "text/html": [
       "<div>\n",
       "<style scoped>\n",
       "    .dataframe tbody tr th:only-of-type {\n",
       "        vertical-align: middle;\n",
       "    }\n",
       "\n",
       "    .dataframe tbody tr th {\n",
       "        vertical-align: top;\n",
       "    }\n",
       "\n",
       "    .dataframe thead th {\n",
       "        text-align: right;\n",
       "    }\n",
       "</style>\n",
       "<table border=\"1\" class=\"dataframe\">\n",
       "  <thead>\n",
       "    <tr style=\"text-align: right;\">\n",
       "      <th></th>\n",
       "      <th>value</th>\n",
       "    </tr>\n",
       "    <tr>\n",
       "      <th>country</th>\n",
       "      <th></th>\n",
       "    </tr>\n",
       "  </thead>\n",
       "  <tbody>\n",
       "    <tr>\n",
       "      <th>CHINA P RP</th>\n",
       "      <td>532235.962026</td>\n",
       "    </tr>\n",
       "    <tr>\n",
       "      <th>U ARAB EMTS</th>\n",
       "      <td>256341.487264</td>\n",
       "    </tr>\n",
       "    <tr>\n",
       "      <th>SAUDI ARAB</th>\n",
       "      <td>242501.859575</td>\n",
       "    </tr>\n",
       "  </tbody>\n",
       "</table>\n",
       "</div>"
      ],
      "text/plain": [
       "                     value\n",
       "country                   \n",
       "CHINA P RP   532235.962026\n",
       "U ARAB EMTS  256341.487264\n",
       "SAUDI ARAB   242501.859575"
      ]
     },
     "execution_count": 36,
     "metadata": {},
     "output_type": "execute_result"
    }
   ],
   "source": [
    "Top_import_countries"
   ]
  },
  {
   "cell_type": "code",
   "execution_count": 37,
   "id": "533fa9d9",
   "metadata": {},
   "outputs": [],
   "source": [
    "Top_export_countries = export_data.pivot_table(index='country', values='value', aggfunc = np.sum).sort_values('value', ascending = 0).head(3)"
   ]
  },
  {
   "cell_type": "code",
   "execution_count": 38,
   "id": "cc06f7a6",
   "metadata": {},
   "outputs": [
    {
     "data": {
      "text/html": [
       "<div>\n",
       "<style scoped>\n",
       "    .dataframe tbody tr th:only-of-type {\n",
       "        vertical-align: middle;\n",
       "    }\n",
       "\n",
       "    .dataframe tbody tr th {\n",
       "        vertical-align: top;\n",
       "    }\n",
       "\n",
       "    .dataframe thead th {\n",
       "        text-align: right;\n",
       "    }\n",
       "</style>\n",
       "<table border=\"1\" class=\"dataframe\">\n",
       "  <thead>\n",
       "    <tr style=\"text-align: right;\">\n",
       "      <th></th>\n",
       "      <th>value</th>\n",
       "    </tr>\n",
       "    <tr>\n",
       "      <th>country</th>\n",
       "      <th></th>\n",
       "    </tr>\n",
       "  </thead>\n",
       "  <tbody>\n",
       "    <tr>\n",
       "      <th>U S A</th>\n",
       "      <td>360683.876901</td>\n",
       "    </tr>\n",
       "    <tr>\n",
       "      <th>U ARAB EMTS</th>\n",
       "      <td>289374.880000</td>\n",
       "    </tr>\n",
       "    <tr>\n",
       "      <th>CHINA P RP</th>\n",
       "      <td>122182.983810</td>\n",
       "    </tr>\n",
       "  </tbody>\n",
       "</table>\n",
       "</div>"
      ],
      "text/plain": [
       "                     value\n",
       "country                   \n",
       "U S A        360683.876901\n",
       "U ARAB EMTS  289374.880000\n",
       "CHINA P RP   122182.983810"
      ]
     },
     "execution_count": 38,
     "metadata": {},
     "output_type": "execute_result"
    }
   ],
   "source": [
    "Top_export_countries"
   ]
  },
  {
   "cell_type": "markdown",
   "id": "0b019db2",
   "metadata": {},
   "source": [
    "## Visualization"
   ]
  },
  {
   "cell_type": "code",
   "execution_count": 39,
   "id": "10cd0f15",
   "metadata": {},
   "outputs": [
    {
     "data": {
      "image/png": "[encoded data removed]",
      "text/plain": [
       "<Figure size 432x288 with 1 Axes>"
      ]
     },
     "metadata": {
      "needs_background": "light"
     },
     "output_type": "display_data"
    }
   ],
   "source": [
    "plt.plot(merged_data['year'], merged_data['import_value'], color='blue', marker='o')\n",
    "plt.title('Import Trend for the year 2010-2018', fontsize=14)\n",
    "plt.xlabel('year', fontsize = 14)\n",
    "plt.ylabel('Import Values', fontsize=14)\n",
    "plt.grid(True)\n",
    "plt.show()"
   ]
  },
  {
   "cell_type": "code",
   "execution_count": 40,
   "id": "b66c6da4",
   "metadata": {},
   "outputs": [
    {
     "data": {
      "image/png": "[encoded data removed]",
      "text/plain": [
       "<Figure size 432x288 with 1 Axes>"
      ]
     },
     "metadata": {
      "needs_background": "light"
     },
     "output_type": "display_data"
    }
   ],
   "source": [
    "plt.plot(merged_data['year'], merged_data['export_value'], color='blue', marker='o')\n",
    "plt.title('Export Trend for the year 2010-2018', fontsize=14)\n",
    "plt.xlabel('year', fontsize = 14)\n",
    "plt.ylabel('Export Values', fontsize=14)\n",
    "plt.grid(True)\n",
    "plt.show()"
   ]
  },
  {
   "cell_type": "code",
   "execution_count": 41,
   "id": "b9242645",
   "metadata": {},
   "outputs": [
    {
     "data": {
      "image/png": "[encoded data removed]",
      "text/plain": [
       "<Figure size 432x288 with 1 Axes>"
      ]
     },
     "metadata": {
      "needs_background": "light"
     },
     "output_type": "display_data"
    }
   ],
   "source": [
    "plt.plot(merged_data['year'], merged_data['export_value'], marker='o', markerfacecolor='blue', markersize=10, color = 'blue', linewidth = 2)\n",
    "plt.plot(merged_data['year'], merged_data['import_value'], marker='o', markerfacecolor='red', markersize=10,color = 'red', linewidth = 2)\n",
    "plt.title('Export Vs Import Trend for the 2010-2018', fontsize=14)\n",
    "plt.xlabel('year', fontsize = 14)\n",
    "plt.ylabel('Export and Import Values', fontsize=14)\n",
    "plt.grid(True)\n",
    "plt.legend(['export', 'Import'])\n",
    "plt.show()"
   ]
  },
  {
   "cell_type": "code",
   "execution_count": 42,
   "id": "7e9528cc",
   "metadata": {},
   "outputs": [
    {
     "data": {
      "image/png": "[encoded data removed]",
      "text/plain": [
       "<Figure size 432x288 with 1 Axes>"
      ]
     },
     "metadata": {
      "needs_background": "light"
     },
     "output_type": "display_data"
    }
   ],
   "source": [
    "plt.barh(Top_import_commodity.index,Top_import_commodity['value'], 0.5, color=['green', 'blue', 'red'])\n",
    "plt.xlabel('Value of Import')\n",
    "plt.ylabel('Commodities')\n",
    "plt.title('Top 3 Commodities based on Value of Import')\n",
    "plt.show()"
   ]
  },
  {
   "cell_type": "code",
   "execution_count": 43,
   "id": "ba725210",
   "metadata": {},
   "outputs": [
    {
     "data": {
      "image/png": "[encoded data removed]",
      "text/plain": [
       "<Figure size 432x288 with 1 Axes>"
      ]
     },
     "metadata": {
      "needs_background": "light"
     },
     "output_type": "display_data"
    }
   ],
   "source": [
    "plt.barh(Top_export_commodity.index,Top_export_commodity['value'], 0.5, color=['green', 'blue', 'red'])\n",
    "plt.xlabel('Value of Export')\n",
    "plt.ylabel('Commodities')\n",
    "plt.title('Top 3 Commodities based on Value of Export')\n",
    "plt.show()"
   ]
  },
  {
   "cell_type": "code",
   "execution_count": 44,
   "id": "e84a4c0c",
   "metadata": {},
   "outputs": [
    {
     "data": {
      "image/png": "[encoded data removed]",
      "text/plain": [
       "<Figure size 432x288 with 1 Axes>"
      ]
     },
     "metadata": {
      "needs_background": "light"
     },
     "output_type": "display_data"
    }
   ],
   "source": [
    "plt.bar(Top_import_countries.index, Top_import_countries['value'], width = 0.5, color=['green', 'blue', 'red'] )\n",
    "plt.xlabel('Countries')\n",
    "plt.ylabel('Value of Import')\n",
    "plt.title('Top 3 Countries based on Value of Import')\n",
    "plt.show()"
   ]
  },
  {
   "cell_type": "code",
   "execution_count": 45,
   "id": "0fff93f4",
   "metadata": {},
   "outputs": [
    {
     "data": {
      "image/png": "[encoded data removed]",
      "text/plain": [
       "<Figure size 432x288 with 1 Axes>"
      ]
     },
     "metadata": {
      "needs_background": "light"
     },
     "output_type": "display_data"
    }
   ],
   "source": [
    "plt.bar(Top_export_countries.index, Top_export_countries['value'], width = 0.5, color=['green', 'blue', 'red'] )\n",
    "plt.xlabel('Countries')\n",
    "plt.ylabel('Value of Export')\n",
    "plt.title('Top 3 Countries based on Value of Export')\n",
    "plt.show()"
   ]
  },
  {
   "cell_type": "markdown",
   "id": "8d6e0d5c",
   "metadata": {},
   "source": [
    "## Valuable Insights from the data"
   ]
  },
  {
   "cell_type": "markdown",
   "id": "ba2c68d4",
   "metadata": {},
   "source": [
    "    1) Import is hightest in 2018 while at the lowest in 2010. \n",
    "    2) Export is highest in 2018 while lowest in 2010.\n",
    "    3) India's export is always lower than import, This shows that India has faced trade deficit between year 2010 and 2018.       Although in 2010 both import and export are at their minimum value and at their maximum in 2018 but India's export has      fallen in a greater magnitude in 2015 than the imports for the same year. In 2016 when import has fallen at Rs. 4,50,000 we can see that for the same year, export is rising at an aggregate level.\n",
    "    4) India import and export mineral fuel, mineral oil and mineral based items the highest.\n",
    "    5) India's imports are highest with China, then United Arab Emirates followed by Saudhi Arab\n",
    "    6) india's exports asre highest with USA, then United Arab Emirates follwed by China\n",
    "    7) The most interesting fact is that from 2010-2018 at an aggregate level india's 1st highest import and export commodity  is mineral fuel, mineral oil and mineral."
   ]
  }
 ],
 "metadata": {
  "kernelspec": {
   "display_name": "Python 3 (ipykernel)",
   "language": "python",
   "name": "python3"
  },
  "language_info": {
   "codemirror_mode": {
    "name": "ipython",
    "version": 3
   },
   "file_extension": ".py",
   "mimetype": "text/x-python",
   "name": "python",
   "nbconvert_exporter": "python",
   "pygments_lexer": "ipython3",
   "version": "3.10.5"
  }
 },
 "nbformat": 4,
 "nbformat_minor": 5
}
